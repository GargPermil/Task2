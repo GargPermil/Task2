{
 "cells": [
  {
   "cell_type": "code",
   "execution_count": 60,
   "metadata": {},
   "outputs": [],
   "source": [
    "import pandas\n",
    "weather = pandas.read_csv(\"delhi-weather-data/testset.csv\")"
   ]
  },
  {
   "cell_type": "code",
   "execution_count": 61,
   "metadata": {},
   "outputs": [],
   "source": [
    "weather['date'] = pandas.to_datetime(weather['datetime_utc'])"
   ]
  },
  {
   "cell_type": "code",
   "execution_count": 62,
   "metadata": {},
   "outputs": [],
   "source": [
    "weather['year'] = weather['date'].dt.year\n",
    "weather['month'] = weather['date'].dt.month\n",
    "weather['day'] = weather['date'].dt.day\n",
    "weather['hour'] = weather['date'].dt.hour\n"
   ]
  },
  {
   "cell_type": "code",
   "execution_count": 63,
   "metadata": {},
   "outputs": [
    {
     "data": {
      "text/plain": [
       "Index(['datetime_utc', ' _conds', ' _dewptm', ' _fog', ' _hail',\n",
       "       ' _heatindexm', ' _hum', ' _precipm', ' _pressurem', ' _rain', ' _snow',\n",
       "       ' _tempm', ' _thunder', ' _tornado', ' _vism', ' _wdird', ' _wdire',\n",
       "       ' _wgustm', ' _windchillm', ' _wspdm', 'date', 'year', 'month', 'day',\n",
       "       'hour'],\n",
       "      dtype='object')"
      ]
     },
     "execution_count": 63,
     "metadata": {},
     "output_type": "execute_result"
    }
   ],
   "source": [
    "weather.columns"
   ]
  },
  {
   "cell_type": "code",
   "execution_count": 64,
   "metadata": {},
   "outputs": [
    {
     "name": "stdout",
     "output_type": "stream",
     "text": [
      "datetime_utc : 0/100990 - 0.0\n",
      " _conds : 72/100990 - 0.071\n",
      " _dewptm : 621/100990 - 0.615\n",
      " _fog : 0/100990 - 0.0\n",
      " _hail : 0/100990 - 0.0\n",
      " _heatindexm : 71835/100990 - 71.131\n",
      " _hum : 757/100990 - 0.75\n",
      " _precipm : 100990/100990 - 100.0\n",
      " _pressurem : 232/100990 - 0.23\n",
      " _rain : 0/100990 - 0.0\n",
      " _snow : 0/100990 - 0.0\n",
      " _tempm : 673/100990 - 0.666\n",
      " _thunder : 0/100990 - 0.0\n",
      " _tornado : 0/100990 - 0.0\n",
      " _vism : 4428/100990 - 4.385\n",
      " _wdird : 14755/100990 - 14.61\n",
      " _wdire : 14755/100990 - 14.61\n",
      " _wgustm : 99918/100990 - 98.939\n",
      " _windchillm : 100411/100990 - 99.427\n",
      " _wspdm : 2358/100990 - 2.335\n",
      "date : 0/100990 - 0.0\n",
      "year : 0/100990 - 0.0\n",
      "month : 0/100990 - 0.0\n",
      "day : 0/100990 - 0.0\n",
      "hour : 0/100990 - 0.0\n"
     ]
    }
   ],
   "source": [
    "#missing records\n",
    "weather[weather[' _pressurem'].isnull()]\n",
    "for x in weather.columns:\n",
    "    missingR = len(weather[weather[x].isnull()])\n",
    "    totalR = len(weather)\n",
    "    print(\"{} : {}/{} - {}\".format(x, missingR, totalR, round((missingR*100)/totalR, 3)))\n",
    "\n"
   ]
  },
  {
   "cell_type": "code",
   "execution_count": 65,
   "metadata": {},
   "outputs": [],
   "source": [
    "#droping rows having nan in _conds col\n",
    "weather = weather[weather[' _conds'].isnull() == False]"
   ]
  },
  {
   "cell_type": "code",
   "execution_count": 66,
   "metadata": {},
   "outputs": [
    {
     "name": "stdout",
     "output_type": "stream",
     "text": [
      "datetime_utc : 0/100918 - 0.0\n",
      " _conds : 0/100918 - 0.0\n",
      " _dewptm : 620/100918 - 0.614\n",
      " _fog : 0/100918 - 0.0\n",
      " _hail : 0/100918 - 0.0\n",
      " _heatindexm : 71763/100918 - 71.11\n",
      " _hum : 728/100918 - 0.721\n",
      " _precipm : 100918/100918 - 100.0\n",
      " _pressurem : 231/100918 - 0.229\n",
      " _rain : 0/100918 - 0.0\n",
      " _snow : 0/100918 - 0.0\n",
      " _tempm : 644/100918 - 0.638\n",
      " _thunder : 0/100918 - 0.0\n",
      " _tornado : 0/100918 - 0.0\n",
      " _vism : 4428/100918 - 4.388\n",
      " _wdird : 14741/100918 - 14.607\n",
      " _wdire : 14741/100918 - 14.607\n",
      " _wgustm : 99846/100918 - 98.938\n",
      " _windchillm : 100339/100918 - 99.426\n",
      " _wspdm : 2358/100918 - 2.337\n",
      "date : 0/100918 - 0.0\n",
      "year : 0/100918 - 0.0\n",
      "month : 0/100918 - 0.0\n",
      "day : 0/100918 - 0.0\n",
      "hour : 0/100918 - 0.0\n"
     ]
    }
   ],
   "source": [
    "#missing records\n",
    "weather[weather[' _pressurem'].isnull()]\n",
    "for x in weather.columns:\n",
    "    missingR = len(weather[weather[x].isnull()])\n",
    "    totalR = len(weather)\n",
    "    print(\"{} : {}/{} - {}\".format(x, missingR, totalR, round((missingR*100)/totalR, 3)))\n"
   ]
  },
  {
   "cell_type": "code",
   "execution_count": 91,
   "metadata": {},
   "outputs": [],
   "source": [
    "#droping blank col\n",
    "del weather[' _precipm']"
   ]
  },
  {
   "cell_type": "code",
   "execution_count": 92,
   "metadata": {},
   "outputs": [
    {
     "name": "stdout",
     "output_type": "stream",
     "text": [
      "datetime_utc : 0/100918 - 0.0\n",
      " _conds : 0/100918 - 0.0\n",
      " _dewptm : 620/100918 - 0.614\n",
      " _fog : 0/100918 - 0.0\n",
      " _hail : 0/100918 - 0.0\n",
      " _heatindexm : 71763/100918 - 71.11\n",
      " _hum : 728/100918 - 0.721\n",
      " _pressurem : 231/100918 - 0.229\n",
      " _rain : 0/100918 - 0.0\n",
      " _snow : 0/100918 - 0.0\n",
      " _tempm : 644/100918 - 0.638\n",
      " _tornado : 0/100918 - 0.0\n",
      " _vism : 4428/100918 - 4.388\n",
      " _wdird : 14741/100918 - 14.607\n",
      " _wdire : 14741/100918 - 14.607\n",
      " _wgustm : 99846/100918 - 98.938\n",
      " _windchillm : 100339/100918 - 99.426\n",
      " _wspdm : 2358/100918 - 2.337\n",
      "date : 0/100918 - 0.0\n",
      "year : 0/100918 - 0.0\n",
      "month : 0/100918 - 0.0\n",
      "day : 0/100918 - 0.0\n",
      "hour : 0/100918 - 0.0\n"
     ]
    }
   ],
   "source": [
    "#missing records\n",
    "weather[weather[' _pressurem'].isnull()]\n",
    "for x in weather.columns:\n",
    "    missingR = len(weather[weather[x].isnull()])\n",
    "    totalR = len(weather)\n",
    "    print(\"{} : {}/{} - {}\".format(x, missingR, totalR, round((missingR*100)/totalR, 3)))"
   ]
  },
  {
   "cell_type": "code",
   "execution_count": 68,
   "metadata": {},
   "outputs": [],
   "source": [
    "import seaborn as sns"
   ]
  },
  {
   "cell_type": "code",
   "execution_count": 125,
   "metadata": {},
   "outputs": [
    {
     "data": {
      "text/plain": [
       "<matplotlib.axes._subplots.AxesSubplot at 0x7f6fe5faad68>"
      ]
     },
     "execution_count": 125,
     "metadata": {},
     "output_type": "execute_result"
    },
    {
     "data": {
      "image/png": "[encoded data removed]",
      "text/plain": [
       "<Figure size 432x288 with 1 Axes>"
      ]
     },
     "metadata": {
      "needs_background": "light"
     },
     "output_type": "display_data"
    }
   ],
   "source": [
    "sns.boxplot(x=weather[' _wspdm'])"
   ]
  },
  {
   "cell_type": "code",
   "execution_count": 132,
   "metadata": {},
   "outputs": [
    {
     "data": {
      "text/plain": [
       "4         0.0\n",
       "6         0.0\n",
       "25        0.0\n",
       "26        0.0\n",
       "28        0.0\n",
       "29        0.0\n",
       "30        0.0\n",
       "31        0.0\n",
       "32        0.0\n",
       "33        0.0\n",
       "34        0.0\n",
       "35        0.0\n",
       "48        0.0\n",
       "49        0.0\n",
       "50        0.0\n",
       "51        0.0\n",
       "52        0.0\n",
       "53        0.0\n",
       "54        0.0\n",
       "55        0.0\n",
       "56        0.0\n",
       "57        0.0\n",
       "58        0.0\n",
       "59        0.0\n",
       "60        0.0\n",
       "63        0.0\n",
       "65        0.0\n",
       "68        0.0\n",
       "69        0.0\n",
       "70        0.0\n",
       "         ... \n",
       "100896    0.0\n",
       "100897    0.0\n",
       "100898    0.0\n",
       "100899    0.0\n",
       "100902    0.0\n",
       "100903    0.0\n",
       "100904    0.0\n",
       "100905    0.0\n",
       "100906    0.0\n",
       "100907    0.0\n",
       "100913    0.0\n",
       "100914    0.0\n",
       "100915    0.0\n",
       "100916    0.0\n",
       "100920    0.0\n",
       "100921    0.0\n",
       "100922    0.0\n",
       "100929    0.0\n",
       "100930    0.0\n",
       "100931    0.0\n",
       "100932    0.0\n",
       "100933    0.0\n",
       "100946    0.0\n",
       "100947    0.0\n",
       "100949    0.0\n",
       "100954    0.0\n",
       "100965    0.0\n",
       "100972    0.0\n",
       "100980    0.0\n",
       "100981    0.0\n",
       "Name:  _wspdm, Length: 29392, dtype: float64"
      ]
     },
     "execution_count": 132,
     "metadata": {},
     "output_type": "execute_result"
    }
   ],
   "source": [
    "weather[weather[' _wspdm'] < 1][' _wspdm']"
   ]
  }
 ],
 "metadata": {
  "kernelspec": {
   "display_name": "Python 3",
   "language": "python",
   "name": "python3"
  },
  "language_info": {
   "codemirror_mode": {
    "name": "ipython",
    "version": 3
   },
   "file_extension": ".py",
   "mimetype": "text/x-python",
   "name": "python",
   "nbconvert_exporter": "python",
   "pygments_lexer": "ipython3",
   "version": "3.7.3"
  }
 },
 "nbformat": 4,
 "nbformat_minor": 2
}
