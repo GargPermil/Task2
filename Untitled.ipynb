{
 "cells": [
  {
   "cell_type": "code",
   "execution_count": 3,
   "metadata": {},
   "outputs": [
    {
     "ename": "SyntaxError",
     "evalue": "invalid syntax (<ipython-input-3-6770a11b5e94>, line 1)",
     "output_type": "error",
     "traceback": [
      "\u001b[0;36m  File \u001b[0;32m\"<ipython-input-3-6770a11b5e94>\"\u001b[0;36m, line \u001b[0;32m1\u001b[0m\n\u001b[0;31m    sudo pip install pandas\u001b[0m\n\u001b[0m           ^\u001b[0m\n\u001b[0;31mSyntaxError\u001b[0m\u001b[0;31m:\u001b[0m invalid syntax\n"
     ]
    }
   ],
   "source": [
    "sudo pip install pandas"
   ]
  },
  {
   "cell_type": "code",
   "execution_count": 5,
   "metadata": {},
   "outputs": [],
   "source": [
    "import pandas"
   ]
  },
  {
   "cell_type": "code",
   "execution_count": 36,
   "metadata": {},
   "outputs": [],
   "source": [
    "data = pandas.read_csv(\"ipldata/matches.csv\")"
   ]
  },
  {
   "cell_type": "code",
   "execution_count": 16,
   "metadata": {},
   "outputs": [
    {
     "data": {
      "text/plain": [
       "Index(['id', 'season', 'city', 'date', 'team1', 'team2', 'toss_winner',\n",
       "       'toss_decision', 'result', 'dl_applied', 'winner', 'win_by_runs',\n",
       "       'win_by_wickets', 'player_of_match', 'venue', 'umpire1', 'umpire2',\n",
       "       'umpire3'],\n",
       "      dtype='object')"
      ]
     },
     "execution_count": 16,
     "metadata": {},
     "output_type": "execute_result"
    }
   ],
   "source": [
    "data.columns"
   ]
  },
  {
   "cell_type": "code",
   "execution_count": 359,
   "metadata": {},
   "outputs": [
    {
     "name": "stderr",
     "output_type": "stream",
     "text": [
      "/usr/local/lib/python3.7/dist-packages/ipykernel_launcher.py:2: UserWarning: Boolean Series key will be reindexed to match DataFrame index.\n",
      "  \n"
     ]
    },
    {
     "data": {
      "text/plain": [
       "Kolkata Knight Riders    58\n",
       "Name: winner, dtype: int64"
      ]
     },
     "execution_count": 359,
     "metadata": {},
     "output_type": "execute_result"
    }
   ],
   "source": [
    "#team won maximum number of matches while chasin\n",
    "data[data['team2'] == data['winner']][data['result'] != \"no result\"]['winner'].value_counts().head(1)"
   ]
  },
  {
   "cell_type": "code",
   "execution_count": 361,
   "metadata": {},
   "outputs": [
    {
     "name": "stderr",
     "output_type": "stream",
     "text": [
      "/usr/local/lib/python3.7/dist-packages/ipykernel_launcher.py:2: UserWarning: Boolean Series key will be reindexed to match DataFrame index.\n",
      "  \n"
     ]
    },
    {
     "data": {
      "text/plain": [
       "Mumbai Indians    58\n",
       "Name: winner, dtype: int64"
      ]
     },
     "execution_count": 361,
     "metadata": {},
     "output_type": "execute_result"
    }
   ],
   "source": [
    "#team loss maximum number of matches while chasing\n",
    "data[data['team2'] != data['winner']][data['result'] != \"no result\"]['winner'].value_counts().head(1)"
   ]
  },
  {
   "cell_type": "code",
   "execution_count": 37,
   "metadata": {},
   "outputs": [],
   "source": [
    "# toss decision best for each ground\n",
    "sf = data\n",
    "sf['best_decision'] = sf[sf['result'] == 'normal']['team1'] == sf[sf['result'] == 'normal']['winner']"
   ]
  },
  {
   "cell_type": "code",
   "execution_count": 38,
   "metadata": {},
   "outputs": [],
   "source": [
    "def func(x):\n",
    "    if x== True:\n",
    "        return 'Bat'\n",
    "    elif x==False:\n",
    "        return 'Field'\n",
    "\n",
    "    \n",
    "sf['best_decision'] = sf['best_decision'].apply(func)"
   ]
  },
  {
   "cell_type": "code",
   "execution_count": 39,
   "metadata": {},
   "outputs": [
    {
     "name": "stdout",
     "output_type": "stream",
     "text": [
      "ACA-VDCA Stadium\n",
      "Field    2\n",
      "Name: best_decision, dtype: int64\n",
      "Barabati Stadium\n",
      "Bat    4\n",
      "Name: best_decision, dtype: int64\n",
      "Brabourne Stadium\n",
      "Bat    6\n",
      "Name: best_decision, dtype: int64\n",
      "Buffalo Park\n",
      "Bat    2\n",
      "Name: best_decision, dtype: int64\n",
      "De Beers Diamond Oval\n",
      "Field    2\n",
      "Name: best_decision, dtype: int64\n",
      "Dr DY Patil Sports Academy\n",
      "Field    10\n",
      "Name: best_decision, dtype: int64\n",
      "Dr. Y.S. Rajasekhara Reddy ACA-VDCA Cricket Stadium\n",
      "Bat    6\n",
      "Name: best_decision, dtype: int64\n",
      "Dubai International Cricket Stadium\n",
      "Field    4\n",
      "Name: best_decision, dtype: int64\n",
      "Eden Gardens\n",
      "Field    47\n",
      "Name: best_decision, dtype: int64\n",
      "Feroz Shah Kotla\n",
      "Field    34\n",
      "Name: best_decision, dtype: int64\n",
      "Feroz Shah Kotla Ground\n",
      "Field    4\n",
      "Name: best_decision, dtype: int64\n",
      "Green Park\n",
      "Field    4\n",
      "Name: best_decision, dtype: int64\n",
      "Himachal Pradesh Cricket Association Stadium\n",
      "Bat    5\n",
      "Name: best_decision, dtype: int64\n",
      "Holkar Cricket Stadium\n",
      "Field    8\n",
      "Name: best_decision, dtype: int64\n",
      "IS Bindra Stadium\n",
      "Field    5\n",
      "Name: best_decision, dtype: int64\n",
      "JSCA International Stadium Complex\n",
      "Field    5\n",
      "Name: best_decision, dtype: int64\n",
      "Kingsmead\n",
      "Bat    8\n",
      "Name: best_decision, dtype: int64\n",
      "M Chinnaswamy Stadium\n",
      "Field    40\n",
      "Name: best_decision, dtype: int64\n",
      "M. A. Chidambaram Stadium\n",
      "Bat    4\n",
      "Name: best_decision, dtype: int64\n",
      "M. Chinnaswamy Stadium\n",
      "Bat    3\n",
      "Name: best_decision, dtype: int64\n",
      "MA Chidambaram Stadium, Chepauk\n",
      "Bat    30\n",
      "Name: best_decision, dtype: int64\n",
      "Maharashtra Cricket Association Stadium\n",
      "Field    14\n",
      "Name: best_decision, dtype: int64\n",
      "Nehru Stadium\n",
      "Bat    3\n",
      "Name: best_decision, dtype: int64\n",
      "New Wanderers Stadium\n",
      "Field    5\n",
      "Name: best_decision, dtype: int64\n",
      "Newlands\n",
      "Bat    4\n",
      "Name: best_decision, dtype: int64\n",
      "OUTsurance Oval\n",
      "Bat    1\n",
      "Name: best_decision, dtype: int64\n",
      "Punjab Cricket Association IS Bindra Stadium, Mohali\n",
      "Bat    7\n",
      "Name: best_decision, dtype: int64\n",
      "Punjab Cricket Association Stadium, Mohali\n",
      "Field    20\n",
      "Name: best_decision, dtype: int64\n",
      "Rajiv Gandhi International Stadium, Uppal\n",
      "Field    33\n",
      "Name: best_decision, dtype: int64\n",
      "Rajiv Gandhi Intl. Cricket Stadium\n",
      "Bat    5\n",
      "Name: best_decision, dtype: int64\n",
      "Sardar Patel Stadium, Motera\n",
      "Bat    6\n",
      "Name: best_decision, dtype: int64\n",
      "Saurashtra Cricket Association Stadium\n",
      "Field    6\n",
      "Name: best_decision, dtype: int64\n",
      "Sawai Mansingh Stadium\n",
      "Field    32\n",
      "Name: best_decision, dtype: int64\n",
      "Shaheed Veer Narayan Singh International Stadium\n",
      "Field    4\n",
      "Name: best_decision, dtype: int64\n",
      "Sharjah Cricket Stadium\n",
      "Field    4\n",
      "Name: best_decision, dtype: int64\n",
      "Sheikh Zayed Stadium\n",
      "Bat    3\n",
      "Name: best_decision, dtype: int64\n",
      "St George's Park\n",
      "Field    4\n",
      "Name: best_decision, dtype: int64\n",
      "Subrata Roy Sahara Stadium\n",
      "Bat    11\n",
      "Name: best_decision, dtype: int64\n",
      "SuperSport Park\n",
      "Field    8\n",
      "Name: best_decision, dtype: int64\n",
      "Vidarbha Cricket Association Stadium, Jamtha\n",
      "Bat    2\n",
      "Name: best_decision, dtype: int64\n",
      "Wankhede Stadium\n",
      "Field    37\n",
      "Name: best_decision, dtype: int64\n"
     ]
    }
   ],
   "source": [
    "# toss decision best for each ground\n",
    "g = sf.groupby('venue')\n",
    "for x in g.groups.keys():\n",
    "    print(x)\n",
    "    print(g.get_group(x)['best_decision'].value_counts().head(1))"
   ]
  },
  {
   "cell_type": "code",
   "execution_count": null,
   "metadata": {},
   "outputs": [],
   "source": []
  },
  {
   "cell_type": "code",
   "execution_count": 6,
   "metadata": {},
   "outputs": [],
   "source": [
    "matches = pandas.read_csv(\"ipldata/deliveries.csv\")"
   ]
  },
  {
   "cell_type": "code",
   "execution_count": 358,
   "metadata": {},
   "outputs": [
    {
     "name": "stderr",
     "output_type": "stream",
     "text": [
      "/usr/local/lib/python3.7/dist-packages/ipykernel_launcher.py:4: UserWarning: Boolean Series key will be reindexed to match DataFrame index.\n",
      "  after removing the cwd from sys.path.\n"
     ]
    },
    {
     "data": {
      "text/plain": [
       "V Kohli    1223\n",
       "Name: batsman, dtype: int64"
      ]
     },
     "execution_count": 358,
     "metadata": {},
     "output_type": "execute_result"
    }
   ],
   "source": [
    "#batsman played maximum number of dot balls\n",
    "#matches['total_runs'].value_counts()\n",
    "#matches['player_dismissed'].isnull().value_counts()\n",
    "matches[matches['player_dismissed'].isnull()][matches['total_runs'] == 0]['batsman'].value_counts().head(1)"
   ]
  },
  {
   "cell_type": "code",
   "execution_count": 327,
   "metadata": {},
   "outputs": [
    {
     "name": "stdout",
     "output_type": "stream",
     "text": [
      "MJ McClenaghan\n",
      "DR Smith\n",
      "R Bhatia\n",
      "A Nehra\n",
      "Sandeep Sharma\n",
      "CH Morris\n",
      "MG Johnson\n",
      "MJ McClenaghan\n",
      "MK Pandey\n",
      "PJ Cummins\n",
      "S Aravind\n",
      "A Nehra\n",
      "JD Unadkat\n",
      "S Aravind\n",
      "S Nadeem\n",
      "Sandeep Sharma\n",
      "PP Ojha\n",
      "AB Dinda\n",
      "JDP Oram\n",
      "I Sharma\n",
      "Joginder Sharma\n",
      "DP Vijaykumar\n",
      "SB Bangar\n",
      "A Nehra\n",
      "A Kumble\n",
      "S Sreesanth\n",
      "GD McGrath\n",
      "A Nel\n",
      "Z Khan\n",
      "MM Patel\n",
      "PR Shah\n",
      "DW Steyn\n",
      "T Kohli\n",
      "PP Chawla\n",
      "DL Vettori\n",
      "L Balaji\n",
      "R Vinay Kumar\n",
      "K Goel\n",
      "MS Gony\n",
      "Z Khan\n",
      "AB Agarkar\n",
      "RR Powar\n",
      "Y Venugopal Rao\n",
      "A Nehra\n",
      "S Tyagi\n",
      "A Kumble\n",
      "SL Malinga\n",
      "RP Singh\n",
      "PP Chawla\n",
      "PJ Sangwan\n",
      "S Tyagi\n",
      "SK Warne\n",
      "AB Agarkar\n",
      "Jaskaran Singh\n",
      "SL Malinga\n",
      "DS Kulkarni\n",
      "SA Asnodkar\n",
      "Z Khan\n",
      "R Sathish\n",
      "AD Mathews\n",
      "SL Malinga\n",
      "AA Jhunjhunwala\n",
      "PP Ojha\n",
      "WP Saha\n",
      "SK Warne\n",
      "PP Ojha\n",
      "C Ganapathy\n",
      "Y Venugopal Rao\n",
      "S Anirudha\n",
      "Harmeet Singh\n",
      "PP Ojha\n",
      "P Kumar\n",
      "SB Jakati\n",
      "Kamran Khan\n",
      "SB Jakati\n",
      "Harmeet Singh\n",
      "KA Pollard\n",
      "S Nadeem\n",
      "MK Tiwary\n",
      "AB Agarkar\n",
      "A Mithun\n",
      "M Kartik\n",
      "TL Suman\n",
      "MV Boucher\n",
      "JA Morkel\n",
      "RP Singh\n",
      "SK Trivedi\n",
      "I Sharma\n",
      "SL Malinga\n",
      "WP Saha\n",
      "A Mithun\n",
      "SL Malinga\n",
      "DS Kulkarni\n",
      "SB Jakati\n",
      "RG Sharma\n",
      "S Badrinath\n",
      "R Sharma\n",
      "TP Sudhindra\n",
      "M Vijay\n",
      "Z Khan\n",
      "B Kumar\n",
      "PA Patel\n",
      "P Awana\n",
      "AB Agarkar\n",
      "LR Shukla\n",
      "M Kartik\n",
      "M Morkel\n",
      "PA Reddy\n",
      "MM Patel\n",
      "DW Steyn\n",
      "GB Hogg\n",
      "UT Yadav\n",
      "S Sreesanth\n",
      "DP Nannes\n",
      "A Mishra\n",
      "L Balaji\n",
      "P Awana\n",
      "MS Gony\n",
      "JH Kallis\n",
      "PP Chawla\n",
      "I Sharma\n",
      "AT Rayudu\n",
      "G Gambhir\n",
      "M Rawat\n",
      "Harbhajan Singh\n",
      "AT Rayudu\n",
      "I Sharma\n",
      "LJ Wright\n",
      "A Mishra\n",
      "S Kaul\n",
      "S Badrinath\n",
      "MM Patel\n",
      "DW Steyn\n",
      "NM Coulter-Nile\n",
      "BW Hilfenhaus\n",
      "AR Patel\n",
      "MA Starc\n",
      "YS Chahal\n",
      "STR Binny\n",
      "Z Khan\n",
      "R Vinay Kumar\n",
      "WD Parnell\n",
      "AP Tare\n",
      "R Ashwin\n",
      "KK Cooper\n",
      "RN ten Doeschate\n",
      "R Vinay Kumar\n",
      "Parvez Rasool\n",
      "KK Cooper\n",
      "SP Narine\n",
      "M Morkel\n",
      "DJ Muthuswami\n",
      "TG Southee\n",
      "DJ Bravo\n",
      "PP Chawla\n",
      "R Vinay Kumar\n",
      "MK Tiwary\n",
      "R Dhawan\n",
      "J Suchith\n",
      "JJ Bumrah\n",
      "Harbhajan Singh\n",
      "YS Chahal\n",
      "MM Sharma\n",
      "Mandeep Singh\n",
      "UT Yadav\n",
      "GJ Bailey\n",
      "BE Hendricks\n",
      "HV Patel\n",
      "SN Khan\n",
      "RA Jadeja\n",
      "MG Johnson\n",
      "MJ McClenaghan\n",
      "HV Patel\n",
      "I Sharma\n",
      "SP Narine\n",
      "MM Sharma\n",
      "KH Pandya\n",
      "A Nehra\n",
      "P Kumar\n",
      "GB Hogg\n",
      "S Kaushik\n",
      "VR Aaron\n",
      "DJ Bravo\n",
      "STR Binny\n",
      "R Bhatia\n",
      "GJ Maxwell\n",
      "M Morkel\n",
      "BB Sran\n",
      "Washington Sundar\n",
      "SS Iyer\n",
      "C Munro\n",
      "BB Sran\n",
      "S Mavi\n",
      "JD Unadkat\n",
      "CH Morris\n",
      "JD Unadkat\n",
      "Mohammed Siraj\n",
      "V Shankar\n",
      "RA Jadeja\n",
      "Basil Thampi\n",
      "RA Jadeja\n",
      "MJ McClenaghan\n",
      "J Archer\n",
      "KV Sharma\n",
      "R Ashwin\n",
      "PP Chawla\n",
      "JP Duminy\n",
      "V Shankar\n",
      "J Archer\n",
      "JP Duminy\n",
      "BA Stokes\n",
      "S Gill\n",
      "S Kaul\n",
      "Mustafizur Rahman\n",
      "PP Chawla\n",
      "P Krishna\n",
      "JJ Bumrah\n",
      "M Markande\n",
      "HV Patel\n",
      "JD Unadkat\n",
      "M Ur Rahman\n",
      "I Sharma\n",
      "A Joseph\n",
      "KH Pandya\n",
      "Kuldeep Yadav\n",
      "KA Pollard\n",
      "Mohammed Siraj\n",
      "JD Unadkat\n",
      "YK Pathan\n",
      "KA Pollard\n",
      "I Sharma\n",
      "K Paul\n",
      "KD Karthik\n",
      "SN Thakur\n",
      "DW Steyn\n",
      "SV Samson\n",
      "DJ Bravo\n",
      "Imran Tahir\n",
      "S Kaul\n",
      "UT Yadav\n",
      "UT Yadav\n",
      "Rashid Khan\n",
      "SP Narine\n",
      "B Kumar\n",
      "TA Boult\n",
      "JJ Bumrah\n"
     ]
    }
   ],
   "source": [
    "#Which batsmen came to crease but never got a chance to face a ball\n",
    "\n",
    "#matches['batsman'].value_counts() - matches['non_striker'].value_counts()\n",
    "#dict(matches['batsman'].value_counts()).get(\"SK Raina\") == None\n",
    "#dict(matches['batsman'].value_counts()).get(\"VS Yeligati\")\n",
    "#dict(matches['non_striker'].value_counts()).keys()\n",
    "#dict(matches['non_striker'].value_counts()).get(\"VS Yeligati\")\n",
    "\n",
    "#bats = dict(matches['batsman'].value_counts())\n",
    "#for x in dict(matches['non_striker'].value_counts()).keys():\n",
    "#    if bats.get(x) == None:\n",
    "#        print(x)\n",
    "\n",
    "for m in matches.groupby('match_id').groups.keys():\n",
    "    bats = dict(matches[matches['match_id']==m]['batsman'].value_counts())\n",
    "    for x in dict(matches[matches['match_id']==m]['non_striker'].value_counts()).keys():\n",
    "        if bats.get(x) == None:\n",
    "            print(x)"
   ]
  },
  {
   "cell_type": "code",
   "execution_count": 41,
   "metadata": {},
   "outputs": [
    {
     "name": "stdout",
     "output_type": "stream",
     "text": [
      "0\n",
      "Harbhajan Singh    1358\n",
      "Name: bowler, dtype: int64\n",
      "1\n",
      "Harbhajan Singh    1465\n",
      "Name: bowler, dtype: int64\n",
      "2\n",
      "A Mishra    232\n",
      "Name: bowler, dtype: int64\n",
      "3\n",
      "P Kumar    16\n",
      "Name: bowler, dtype: int64\n",
      "4\n",
      "UT Yadav    384\n",
      "Name: bowler, dtype: int64\n",
      "5\n",
      "AB Dinda    4\n",
      "Name: bowler, dtype: int64\n",
      "6\n",
      "PP Chawla    171\n",
      "Name: bowler, dtype: int64\n",
      "7\n",
      "K Paul    2\n",
      "Name: bowler, dtype: int64\n"
     ]
    }
   ],
   "source": [
    "#Which bowler has hit for maximum number of 1s/2s/3s/4s/6s\n",
    "bowler = matches.groupby('batsman_runs')\n",
    "#bowler.get_group('0')\n",
    "#bowler.get_group(1)['bowler'].value_counts()\n",
    "for x in bowler.groups.keys():\n",
    "    print(x)\n",
    "    #print(bowler.get_group(x))\n",
    "    #print(bowler.get_group(x).query(\"batsman_runs > 0\")['batsman_runs'].value_counts())#\n",
    "    print(bowler.get_group(x)['bowler'].value_counts().head(1))"
   ]
  },
  {
   "cell_type": "code",
   "execution_count": 357,
   "metadata": {},
   "outputs": [
    {
     "data": {
      "text/plain": [
       "SK Raina    8\n",
       "Name: batsman, dtype: int64"
      ]
     },
     "execution_count": 357,
     "metadata": {},
     "output_type": "execute_result"
    }
   ],
   "source": [
    "#batsman got stumped out maximum number of times\n",
    "\n",
    "matches[matches['dismissal_kind'] == 'stumped']['batsman'].value_counts().head(1)"
   ]
  },
  {
   "cell_type": "code",
   "execution_count": 372,
   "metadata": {},
   "outputs": [
    {
     "data": {
      "text/plain": [
       "G Gambhir         8\n",
       "AB de Villiers    8\n",
       "M Vijay           8\n",
       "Name: player_dismissed, dtype: int64"
      ]
     },
     "execution_count": 372,
     "metadata": {},
     "output_type": "execute_result"
    }
   ],
   "source": [
    "#non-strikers has been part of maximum number of runouts\n",
    "\n",
    "#matches[matches['dismissal_kind'] == \"run out\"].query(\"batsman != player_dismissed & dismissal_kind == run out\")\n",
    "matches.query(\"batsman != player_dismissed & dismissal_kind == 'run out'\")['player_dismissed'].value_counts().head(3)"
   ]
  },
  {
   "cell_type": "code",
   "execution_count": 44,
   "metadata": {},
   "outputs": [
    {
     "data": {
      "text/plain": [
       "MS Dhoni    15\n",
       "Name: fielder, dtype: int64"
      ]
     },
     "execution_count": 44,
     "metadata": {},
     "output_type": "execute_result"
    }
   ],
   "source": [
    "#fielder most run out the non-striker\n",
    "matches.query(\"batsman != player_dismissed & dismissal_kind == 'run out'\")['fielder'].value_counts().head(1)"
   ]
  },
  {
   "cell_type": "code",
   "execution_count": 67,
   "metadata": {},
   "outputs": [
    {
     "name": "stdout",
     "output_type": "stream",
     "text": [
      "8\n",
      "Kolkata Knight Riders    11\n",
      "Name: winner, dtype: int64\n",
      "9\n",
      "Royal Challengers Bangalore    8\n",
      "Name: winner, dtype: int64\n",
      "10\n",
      "Royal Challengers Bangalore    3\n",
      "Name: winner, dtype: int64\n"
     ]
    }
   ],
   "source": [
    "#Team won by 8/9/10 wickets highest of times\n",
    "wickets = data.query(\"win_by_wickets > 7\").groupby('win_by_wickets')\n",
    "\n",
    "for x in wickets.groups.keys():\n",
    "    print(x)\n",
    "    print(wickets.get_group(x)['winner'].value_counts().head(1))"
   ]
  },
  {
   "cell_type": "code",
   "execution_count": 98,
   "metadata": {},
   "outputs": [
    {
     "name": "stdout",
     "output_type": "stream",
     "text": [
      "4\n",
      "Kamran Khan    3\n",
      "Name: bowler, dtype: int64\n",
      "6\n",
      "R Vinay Kumar    2\n",
      "Name: bowler, dtype: int64\n"
     ]
    }
   ],
   "source": [
    "#Which bowler has hit for maximum number of 4s/6s in super over\n",
    "b = matches.query(\"is_super_over == 1 & total_runs == 4 | is_super_over == 1 & total_runs == 6\").groupby('total_runs')\n",
    "#b.get_group('CH Morris')['']\n",
    "for x in b.groups.keys():\n",
    "    print(x)\n",
    "    print(b.get_group(x)['bowler'].value_counts().head(1))"
   ]
  },
  {
   "cell_type": "code",
   "execution_count": 110,
   "metadata": {},
   "outputs": [
    {
     "data": {
      "text/plain": [
       "Kolkata    4\n",
       "Name: city, dtype: int64"
      ]
     },
     "execution_count": 110,
     "metadata": {},
     "output_type": "execute_result"
    }
   ],
   "source": [
    "#cit having maximum number of dl applied\n",
    "data.query('dl_applied == 1')['city'].value_counts().head(1)"
   ]
  },
  {
   "cell_type": "code",
   "execution_count": 111,
   "metadata": {},
   "outputs": [
    {
     "data": {
      "text/plain": [
       "Bangalore    2\n",
       "Name: city, dtype: int64"
      ]
     },
     "execution_count": 111,
     "metadata": {},
     "output_type": "execute_result"
    }
   ],
   "source": [
    "#city having match as no-result\n",
    "data.query(\"result == 'no result'\")['city'].value_counts().head(1)"
   ]
  }
 ],
 "metadata": {
  "kernelspec": {
   "display_name": "Python 3",
   "language": "python",
   "name": "python3"
  },
  "language_info": {
   "codemirror_mode": {
    "name": "ipython",
    "version": 3
   },
   "file_extension": ".py",
   "mimetype": "text/x-python",
   "name": "python",
   "nbconvert_exporter": "python",
   "pygments_lexer": "ipython3",
   "version": "3.7.3"
  }
 },
 "nbformat": 4,
 "nbformat_minor": 2
}
